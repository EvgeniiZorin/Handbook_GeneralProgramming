{
 "cells": [
  {
   "cell_type": "markdown",
   "metadata": {},
   "source": [
    "# Introduction\n",
    "\n",
    "Regular expressions are text strings that describe patterns to find text or positions within a body of text. These patterns are used for four main tasks:\n",
    "- To find text within a larger body of text;\n",
    "- To validate that a string conforms to a desired format; \n",
    "- To replace text (or insert text at matches positions);\n",
    "- to split strings.\n",
    "These actions are done by a regex engine.\n",
    "\n",
    "Regular expressions. Invented by the US Mathematician Stephen Cole Kleen in the 1950s. \n",
    "\n",
    "Uses:\n",
    "- In HTML scraped data processing;\n",
    "- ML (NLP)\n",
    "- Text processing\n",
    "\n",
    "Word characters - letters, numbers, and underscore `_`.\n",
    "\n",
    "For regex testing: https://regex101.com/\n",
    "\n",
    "Learn more about regex: https://www.rexegg.com/\n",
    "\n"
   ]
  },
  {
   "cell_type": "code",
   "execution_count": null,
   "metadata": {
    "vscode": {
     "languageId": "html"
    }
   },
   "outputs": [],
   "source": [
    "<body>\n",
    "    <div>\n",
    "        <h1>\n",
    "            Welcome to my page!\n",
    "        </h1>\n",
    "        <body>\n",
    "            This is the main page of my personal website.\n",
    "        </body>\n",
    "    </div>\n",
    "</body>\n",
    "\n",
    "Welcome to my page! \n",
    "This is the main page of my personal website."
   ]
  },
  {
   "cell_type": "code",
   "execution_count": null,
   "metadata": {
    "vscode": {
     "languageId": "html"
    }
   },
   "outputs": [],
   "source": []
  },
  {
   "cell_type": "markdown",
   "metadata": {},
   "source": [
    "# Operators\n",
    "\n",
    "Operators can be:\n",
    "- Greedy: match the longest possible string;\n",
    "- Lazy: match the shortest possible string;\n"
   ]
  },
  {
   "cell_type": "markdown",
   "metadata": {},
   "source": [
    "## Characters\n",
    "\n",
    "| Operator | Meaning | Example |\n",
    "| - | - | - |\n",
    "| `.` (dot) | Any character except newline (line break) | `a.c` matches `abc` |\n",
    "| `\\` | Escaping the following special / reserved characters. | `.` (dot) is a special character, so if you want to match the dot character, you need to escape it: `a\\.c` matches `a.c`.<br>`\\.\\*\\+ \\[\\{\\(` matches `.*+ [{(` |\n",
    "| `\\d` | One digit from 0 to 9 | `file_\\d\\d` matches `file_25` |\n",
    "| `\\w` | Matches word characters: ASCII/Unicode letters, digit, underscore | `\\w-\\w\\w\\w` matches `A-B_1` |\n",
    "| `\\W` | Matches non-word characters |\n",
    "| `\\s` <br>(lowercase s) | Matches whitespace character |\n",
    "| `\\S` <br>(uppercase s) | Matches any non-whitespace whitespace |\n",
    "| `\\D` | One character that is not a digit | `\\D\\D\\D` matches `ABc` |\n"
   ]
  },
  {
   "cell_type": "markdown",
   "metadata": {},
   "source": [
    "## Quantifiers\n",
    "\n",
    "| Operator | Meaning | Example |\n",
    "| - | - | - |\n",
    "| `?` | Match 0 or 1 repetitions of preceding regexp.<br>Another function is that it makes quantifiers **lazy**. | `plurals?` matches `plurals` and `plural` |\n",
    "| `+` | Match 1 or more repetitions of preceding character / regexp.<br>By default is **greedy**. | `ab+` matches `abc`, `abbc`, but NOT `ac`.<br>`Version \\w-\\w+` matches `Version A-b1_1`.<br>Greedy example: `\\d+` matches `12345` |\n",
    "| `+?` | Match 1 or more repetitions of preceding character (**lazy**) | Lazy example: `\\d+` matches `1` in `12345`. |\n",
    "| `*` | Match 0 or more repetitions of preceding character / regex (**greedy**) | `ab*` matches `ac`, `abc`, `abbc`.<br>Greedy example: `A*` matches `AAA` |\n",
    "| `*?` | Same as `*` but **lazy** | `A*?` matches empty /nothing in `AAA` (zero repetitions). |\n",
    "| `{m}` | Match exactly `m` copies of the preceding regexp | `ab{2}` matches `abb`.<br>`\\D{3}` matches `ABC` |\n",
    "| `{m,n}` | Match from `m` to `n` repetitions of the preceding regexp. By default it's **greedy** | `ab{2,3}` matches `abb`, `abbb`, but NOT `abbbbb`.<br>Greedy example: `\\w{2,4}` matches `abcd`<br>`{0,}` means zero or more repetitions. <br> `{0,3}` means from zero up to 3 repetitions inclusive. |\n",
    "| `{m,n}?` | `m` to `n` times, **lazy** | `\\w{2,4}?` matches `ab` in `abcd` |\n",
    "| `{m,}` | Match `m` or more times | `ab{2,}` matches `a` followerd by at least 2 `b`s : `abb`, `abbb`, etc. |\n"
   ]
  },
  {
   "cell_type": "markdown",
   "metadata": {},
   "source": [
    "## Logic\n",
    "\n",
    "| Operator | Meaning | Example |\n",
    "| - | - | - |\n",
    "| `\\|`<br>Vertical line | Alternation / OR operand; matches one of multiple patterns. | E.g. `hi\\|hello`, `(m\\|b\\|d)ark` |\n",
    "\n"
   ]
  },
  {
   "cell_type": "markdown",
   "metadata": {},
   "source": [
    "### Capturing group\n",
    "\n",
    "| Operator | Meaning | Example |\n",
    "| - | - | - |\n",
    "| `()` | Capturing group. These tell where to start and stop what string to extract. | |\n",
    "| `?:` | Only group but do not remember the grouped part. E.g. `(i want (?:apple\\|pear\\|grapes))` because you only want to extract the entire string (e.g. `i want apple`) and not also the name of the fruit (e.g. `apple`)<br>Further reading: <br> https://stackoverflow.com/questions/3705842/what-does-do-in-regex <br> https://www.ocpsoft.org/tutorials/regular-expressions/or-in-regex/ <br> https://stackoverflow.com/questions/1480672/regular-expression-to-match-sentence-with-one-variable-word | |\n",
    "| `\\<group_number>`<br>E.g. `\\1`, `\\2` | contents of capturing group 1. | Regex `([a-z])([0-9])(\\w)\\3\\2\\1` - `\\1` refers to the capturing group `([a-z])`, `\\2` refers to the capturing group `([0-9])`, etc. |\n"
   ]
  },
  {
   "cell_type": "markdown",
   "metadata": {},
   "source": [
    "## Character classes\n",
    "\n",
    "| Operator | Meaning | Example |\n",
    "| - | - | - |\n",
    "| `[]` | Indicates a choice of one of a set of characters, e.g. `[amk]`, `[a-zA-Z0-9]`<br>`[AB1-5w-z]` - one of either: `A,B,1,2,3,4,5,w,x,y,z` | |\n",
    "| `[^x]` | One character that is NOT `x` | `[^a-z]{3}` - one character that is not lowercase a-z 3 times, e.g. `A1!` <br>`[^aeiou]` - one character that is not a vowel. |\n"
   ]
  },
  {
   "attachments": {
    "image-2.png": {
     "image/png": "[encoded data removed]"
    },
    "image.png": {
     "image/png": "[encoded data removed]"
    }
   },
   "cell_type": "markdown",
   "metadata": {},
   "source": [
    "## Anchors and boundaries\n",
    "\n",
    "| Operator | Meaning | Example |\n",
    "| - | - | - |\n",
    "| `^` | Match the start of a string / line.<br>*Note that inside of square brackets [], the operator `^` means negation.* | |\n",
    "| `$` | Matches the end of a string / line. | |\n",
    "| `\\b` | Word boundary: position where only one side is an ASCII/Unicode letter, digit, or underscore; the other side is anything else or a zero-width character. It's useful to extract - you guessed it - words.  | ![image.png](attachment:image.png) |\n",
    "| `\\B` | Non-word boundary | ![image-2.png](attachment:image-2.png) |\n"
   ]
  },
  {
   "attachments": {
    "image.png": {
     "image/png": "[encoded data removed]"
    }
   },
   "cell_type": "markdown",
   "metadata": {},
   "source": [
    "## Lookarounds\n",
    "\n",
    "| Operator | Name | Function | Examples |\n",
    "| - | - | - | - |\n",
    "| `(?<=foo)` | Positive Lookbehind | Asserts that what immediately PRECEDES the current position in the string is foo | |\n",
    "| `(?<!foo)` | Negative Lookbehind | Asserts that what immediately PRECEDES the current position in the string is NOT foo | |\n",
    "| `(?=foo)` | Positive Lookahead | Asserts that what immediately FOLLOWS the current position in the string is foo | |\n",
    "| `(?!foo)` | Negative Lookahead | Asserts that what immediately FOLLOWS the current position in the string is NOT foo | Match all characters which are not immediately followed by that same character: `(.)(?!\\1)` |\n",
    "\n",
    "\n",
    "I want to extract `yes` if it is preceded by `strong : ` and followed by `.`\n",
    "\n",
    "![image.png](attachment:image.png)"
   ]
  },
  {
   "cell_type": "markdown",
   "metadata": {},
   "source": [
    "# Python `re`\n",
    "\n",
    "> IMPORTANT! In Python `re` library, please use `r` in front of the search term if you are using advanced regexp operators!\n",
    ">\n",
    "> Check examples below. Also this example: `re.findall(r'\\b(non)\\b', 'non dairy')`"
   ]
  },
  {
   "cell_type": "markdown",
   "metadata": {},
   "source": [
    "## search\n",
    "\n",
    "Get the indices of the start and the end of the found query."
   ]
  },
  {
   "cell_type": "code",
   "execution_count": null,
   "metadata": {},
   "outputs": [
    {
     "name": "stdout",
     "output_type": "stream",
     "text": [
      "<re.Match object; span=(20, 23), match=' I '>\n",
      " I \n"
     ]
    }
   ],
   "source": [
    "import re\n",
    "\n",
    "str1 = \"I really like Shrek! I also love the other two movies.\"\n",
    "b = re.search(\"\\sI\\s\", str1)\n",
    "print(b)\n",
    "print(str1[20:23])"
   ]
  },
  {
   "cell_type": "markdown",
   "metadata": {},
   "source": [
    "## findall\n",
    "\n",
    "Find all matched strings"
   ]
  },
  {
   "cell_type": "code",
   "execution_count": 4,
   "metadata": {},
   "outputs": [
    {
     "data": {
      "text/plain": [
       "[]"
      ]
     },
     "execution_count": 4,
     "metadata": {},
     "output_type": "execute_result"
    }
   ],
   "source": [
    "import re \n",
    "\n",
    "re.findall('abc', 'a')"
   ]
  },
  {
   "cell_type": "code",
   "execution_count": null,
   "metadata": {},
   "outputs": [
    {
     "name": "stdout",
     "output_type": "stream",
     "text": [
      "['2 ', '194 ', '426']\n",
      "['2', '500', '219']\n"
     ]
    }
   ],
   "source": [
    "import re\n",
    "\n",
    "# Print a list of found queries\n",
    "a = \"My 2 (two) favourite 5numbers are 194 and 426\"\n",
    "b = re.findall( '[^a-zA-Z]([0-9]+[^a-zA-Z])' , a)\n",
    "print(b)\n",
    "\n",
    "a = \"I 2 love rock 500 and roll 219 times\"\n",
    "\n",
    "b = re.findall( '[0-9]+' , a )\n",
    "print(b)"
   ]
  },
  {
   "cell_type": "code",
   "execution_count": null,
   "metadata": {},
   "outputs": [
    {
     "data": {
      "text/plain": [
       "['andreas.kobe@gmail.com']"
      ]
     },
     "metadata": {},
     "output_type": "display_data"
    }
   ],
   "source": [
    "import re\n",
    "\n",
    "\"\"\"\n",
    "email should have the prefix that has to \n",
    "1) start with a letter and then\n",
    "2) contain letters, digits, underscore, period, and/or dash,\n",
    "then have the domain of \"gmail.com\":  \n",
    "\"\"\"\n",
    "str1 = \"My email is andreas.kobe@gmail.com , you can use it.\"\n",
    "re.findall('[a-zA-Z]+[a-zA-Z0-9_.-]*@gmail\\.com', str1)\n"
   ]
  },
  {
   "cell_type": "code",
   "execution_count": null,
   "metadata": {},
   "outputs": [
    {
     "data": {
      "text/plain": [
       "[[], ['hormon'], ['hormones'], ['hormonas'], ['hormonal disbalance']]"
      ]
     },
     "metadata": {},
     "output_type": "display_data"
    }
   ],
   "source": [
    "import re\n",
    "\n",
    "a = ['horm', 'hormon', 'hormones', 'hormonas', 'hormonal disbalance']\n",
    "\n",
    "[ re.findall('hormon.*', i) for i in a ]\n"
   ]
  },
  {
   "cell_type": "code",
   "execution_count": null,
   "metadata": {},
   "outputs": [
    {
     "data": {
      "text/plain": [
       "['45', '69']"
      ]
     },
     "metadata": {},
     "output_type": "display_data"
    }
   ],
   "source": [
    "\"\"\"\n",
    "Case-insensitive search\n",
    "\"\"\"\n",
    "\n",
    "import re\n",
    "\n",
    "a = \"ABC45 abc69\"\n",
    "\n",
    "re.findall('[a-z]+([0-9]+)', a, re.IGNORECASE)\n"
   ]
  },
  {
   "cell_type": "code",
   "execution_count": null,
   "metadata": {},
   "outputs": [
    {
     "data": {
      "text/plain": [
       "['[1]', '[]', '[2]', '[3]', '[10]']"
      ]
     },
     "metadata": {},
     "output_type": "display_data"
    }
   ],
   "source": [
    "import re\n",
    "a = '395[1] []film[2] movies [3] another one[10]'\n",
    "re.findall( '\\[[0-9]*\\]', a )"
   ]
  },
  {
   "cell_type": "code",
   "execution_count": null,
   "metadata": {},
   "outputs": [
    {
     "name": "stdout",
     "output_type": "stream",
     "text": [
      "['Name: John; Surname: Doe; Age: 27; Email:john.doe@harvard.co.uk; Date: 04.04.2000; Salary:']\n",
      "['Name:']\n",
      "['Email:john.doe@harvard.co.uk;']\n",
      "['john.doe@harvard.co.uk']\n",
      "['harvard.co.uk;']\n",
      "['harvard.co.uk']\n",
      "['$10.00']\n"
     ]
    }
   ],
   "source": [
    "a = \"Name: John; Surname: Doe; Age: 27; Email:john.doe@harvard.co.uk; Date: 04.04.2000; Salary: $10.00; \"\n",
    "\n",
    "# Greedy: finds the longest string match\n",
    "print( re.findall('^N.+:', a) )\n",
    "# Non-greedy matching: prints the first encountered match\n",
    "print( re.findall('^N.+?:', a) )\n",
    "\n",
    "# Extract email\n",
    "print( re.findall('\\S+@\\S+', a) ) # ver1\n",
    "print( re.findall('[a-zA-Z.]+@[a-zA-Z.]+', a) ) # ver2 - better\n",
    "# Extract email domain\n",
    "print( re.findall('Email.+@([^ ]*)', a) ) # ver1\n",
    "print( re.findall('Email.+@([a-zA-Z.]+)', a) ) # ver2\n",
    "\n",
    "# Extract pay (dollars)\n",
    "print( re.findall('\\$[0-9.]+', a) )"
   ]
  },
  {
   "cell_type": "code",
   "execution_count": null,
   "metadata": {},
   "outputs": [
    {
     "data": {
      "text/plain": [
       "['non']"
      ]
     },
     "metadata": {},
     "output_type": "display_data"
    }
   ],
   "source": [
    "import re\n",
    "\n",
    "re.findall(r'\\b(non)\\b', 'non daily')\n"
   ]
  },
  {
   "cell_type": "markdown",
   "metadata": {},
   "source": [
    "## replace"
   ]
  },
  {
   "cell_type": "code",
   "execution_count": 10,
   "metadata": {},
   "outputs": [
    {
     "data": {
      "text/plain": [
       "'Day savings. # Contents: <contents_start>game cartridge, disk, video. <contents_end># Price 100 USD'"
      ]
     },
     "execution_count": 10,
     "metadata": {},
     "output_type": "execute_result"
    }
   ],
   "source": [
    "import re\n",
    "str1 = \"Day savings. # Contents: game cartridge, disk, video. # Price 100 USD\"\n",
    "re.sub(r\"(?<=# Contents: )(.*?)(?=#)\", r\"<contents_start>\\1<contents_end>\", str1)"
   ]
  },
  {
   "cell_type": "code",
   "execution_count": null,
   "metadata": {},
   "outputs": [
    {
     "data": {
      "text/plain": [
       "'1. _ 2. _'"
      ]
     },
     "metadata": {},
     "output_type": "display_data"
    }
   ],
   "source": [
    "import re\n",
    "str1 = \"1. mechanics finest product 2. mechanic product\"\n",
    "re.sub('mechanics?( finest)? product', '_', str1)"
   ]
  },
  {
   "cell_type": "code",
   "execution_count": null,
   "metadata": {},
   "outputs": [
    {
     "data": {
      "text/plain": [
       "'; _ ;'"
      ]
     },
     "metadata": {},
     "output_type": "display_data"
    }
   ],
   "source": [
    "import re\n",
    "\n",
    "str1 = \"; red product ; no ;\"\n",
    "re.sub(r'\\b(red?( product)? [:|;] ?not?)\\b', '_', str1)"
   ]
  },
  {
   "cell_type": "code",
   "execution_count": null,
   "metadata": {},
   "outputs": [
    {
     "data": {
      "text/plain": [
       "'_person1_person2_'"
      ]
     },
     "metadata": {},
     "output_type": "display_data"
    }
   ],
   "source": [
    "import re\n",
    "\n",
    "a = '\\t\\tperson1\\t\\t\\t\\tperson2\\t'\n",
    "\n",
    "re.sub('[\\t]+', '_', a)"
   ]
  },
  {
   "cell_type": "code",
   "execution_count": null,
   "metadata": {},
   "outputs": [
    {
     "data": {
      "text/plain": [
       "'i was i were now i am not '"
      ]
     },
     "metadata": {},
     "output_type": "display_data"
    }
   ],
   "source": [
    "import re\n",
    "\n",
    "a = \"'i was,, i were. now i: am not ?\"\n",
    "\n",
    "a = re.sub( '[,.?:\\']', '', a )\n",
    "a\n"
   ]
  },
  {
   "cell_type": "code",
   "execution_count": null,
   "metadata": {},
   "outputs": [
    {
     "data": {
      "text/plain": [
       "'This is a sentence  Also this  but with a comma   '"
      ]
     },
     "metadata": {},
     "output_type": "display_data"
    }
   ],
   "source": [
    "# Remove all punctuation marks, preserving their spatial positioning\n",
    "# and replacing them with a whitespace\n",
    "### Explanation: replaces not (^) word characters or spaces with the empty string. \n",
    "### Be careful though, the \\w matches underscore too usually for example.\n",
    "import re\n",
    "\n",
    "s = 'This is a sentence. Also this, but with a comma...'\n",
    "s = re.sub(r'[^\\w\\s]', ' ', s)\n",
    "s"
   ]
  },
  {
   "cell_type": "code",
   "execution_count": null,
   "metadata": {},
   "outputs": [
    {
     "name": "stdout",
     "output_type": "stream",
     "text": [
      "Original: <title>Title</title><head>Header</head>\n",
      "Greedy replacement: <!>\n",
      "Non-greedy replacement: <!>Title<!><!>Header<!>\n"
     ]
    }
   ],
   "source": [
    "import re\n",
    "\n",
    "a = \"<title>Title</title><head>Header</head>\"\n",
    "print(f\"Original: {a}\")\n",
    "\n",
    "# Greedy\n",
    "a1 = re.sub( '<.*>', '<!>', a )\n",
    "print(f\"Greedy replacement: {a1}\")\n",
    "\n",
    "a1 = re.sub( '<.*?>', '<!>', a )\n",
    "print(f\"Non-greedy replacement: {a1}\")\n"
   ]
  },
  {
   "cell_type": "code",
   "execution_count": null,
   "metadata": {},
   "outputs": [
    {
     "name": "stdout",
     "output_type": "stream",
     "text": [
      "Some stories:\n",
      "Story 1.;\n",
      "Story 2.;\n",
      "Story 3.;\n",
      "Story 4.;\n",
      "\n"
     ]
    }
   ],
   "source": [
    "a = \"Some stories:\\nStory 1.[1]\\nStory 2.[2]\\nStory 3.[33]\\nStory 4.[13325]\\n\"\n",
    "\n",
    "import re\n",
    "\n",
    "a = re.sub('\\[[0-9]+\\]', ';', a)\n",
    "\n",
    "print(a)"
   ]
  },
  {
   "cell_type": "code",
   "execution_count": null,
   "metadata": {},
   "outputs": [
    {
     "data": {
      "text/plain": [
       "'number __NUMBER__ number __NUMBER__ -number__NUMBER__- n__NUMBER__'"
      ]
     },
     "metadata": {},
     "output_type": "display_data"
    }
   ],
   "source": [
    "# Replace all numbers with a NUMBER keyword\n",
    "import re\n",
    "\n",
    "### A very difficult-looking solutions, still don't understand this complilcated regexp\n",
    "re.sub(r'\\d+(?:\\.\\d*)?(?:[eE][+-]?\\d+)?', 'NUMBER', 'number 1 number 52 n2')\n",
    "### This one is simple and makes sense\n",
    "re.sub(r'[0-9]+', '__NUMBER__', 'number 1 number 52 -number22- n2')\n"
   ]
  },
  {
   "cell_type": "code",
   "execution_count": null,
   "metadata": {},
   "outputs": [
    {
     "data": {
      "text/plain": [
       "'3_'"
      ]
     },
     "metadata": {},
     "output_type": "display_data"
    }
   ],
   "source": [
    "import re\n",
    "\n",
    "a = '3 (Defuncion)'\n",
    "re.sub(r' *\\([dDa-zA-Z ]+\\s*\\)\\s*', '_', a)"
   ]
  },
  {
   "cell_type": "code",
   "execution_count": null,
   "metadata": {},
   "outputs": [
    {
     "data": {
      "text/plain": [
       "'_mania thiscat _t _ thiscatmania'"
      ]
     },
     "metadata": {},
     "output_type": "display_data"
    }
   ],
   "source": [
    "import re\n",
    "\n",
    "str1 = 'Catmania thiscat Catt cat thiscatmania'\n",
    "re.sub(r'\\bcat', '_', str1, flags=re.IGNORECASE)\n"
   ]
  },
  {
   "cell_type": "markdown",
   "metadata": {},
   "source": [
    "## Repetitions"
   ]
  },
  {
   "cell_type": "code",
   "execution_count": 3,
   "metadata": {},
   "outputs": [
    {
     "data": {
      "text/plain": [
       "[[], [], ['a ']]"
      ]
     },
     "execution_count": 3,
     "metadata": {},
     "output_type": "execute_result"
    }
   ],
   "source": [
    "import re\n",
    "\n",
    "a = [\n",
    "    'asdf aa',\n",
    "    'asdf asdf asdf asdf asdf asdf asdf asdf asdf',\n",
    "    'a a a a b a a a a a '\n",
    "]\n",
    "\n",
    "# [ re.findall(\"^(.+\\s+){10,50}\", i) for i in a ]\n",
    "[ re.findall(\"(.+\\s+){10,50}\", i) for i in a ]"
   ]
  },
  {
   "cell_type": "code",
   "execution_count": null,
   "metadata": {},
   "outputs": [
    {
     "data": {
      "text/plain": [
       "[[], [], ['ha ha ha'], ['ha ha ha']]"
      ]
     },
     "execution_count": 4,
     "metadata": {},
     "output_type": "execute_result"
    }
   ],
   "source": [
    "import re\n",
    "\n",
    "a = [\n",
    "    'ha',\n",
    "    'hahaha',\n",
    "    'ha ha ha',\n",
    "    'ha ha ha ha'\n",
    "]\n",
    "# I want to match exactly 'ha ha ha ' \n",
    "[ re.findall(r\"((?:ha ){3})\", i) for i in a ]\n",
    "# I want to match exactly 'ha ha ha' \n",
    "[ re.findall(r\"(?:ha ){2}(?:ha)\", i) for i in a ]"
   ]
  },
  {
   "cell_type": "code",
   "execution_count": null,
   "metadata": {},
   "outputs": [
    {
     "data": {
      "text/plain": [
       "[('love', 'gluten'), ('the', 'gluten')]"
      ]
     },
     "metadata": {},
     "output_type": "display_data"
    }
   ],
   "source": [
    "import re\n",
    "\n",
    "text1 = \"I love gluten! Nothing else. Alright, let's think - so this is the gluten free bread!\"\n",
    "re.findall('(love|the) (gluten)', text1)"
   ]
  },
  {
   "cell_type": "code",
   "execution_count": null,
   "metadata": {},
   "outputs": [
    {
     "data": {
      "text/plain": [
       "'I love gluten; gluten is the best; it is gluten free : yes<br>'"
      ]
     },
     "metadata": {},
     "output_type": "display_data"
    }
   ],
   "source": [
    "import re\n",
    "\n",
    "text1 = \"I love gluten. Nothing else appeals to me. gluten is the best! Not like anything else. it is gluten free : yes<br>\"\n",
    "\n",
    "# re.findall('[^.]*gluten[^.]*', text1)\n",
    "';'.join( re.findall('[^.|^!|^?]*gluten[^.|^!|^?]*', text1) )"
   ]
  },
  {
   "cell_type": "code",
   "execution_count": null,
   "metadata": {},
   "outputs": [
    {
     "data": {
      "text/plain": [
       "['<br>it is gluten free : yes<br>']"
      ]
     },
     "metadata": {},
     "output_type": "display_data"
    }
   ],
   "source": [
    "text1 = \"I love gluten. Nothing else appeals to me. gluten is the best! Not like anything else. here is some rubbish text <br>it is gluten free : yes<br>\"\n",
    "\n",
    "re.findall('<br>[\\w\\W]*gluten[\\w\\W]*<br>', text1)"
   ]
  },
  {
   "cell_type": "markdown",
   "metadata": {},
   "source": [
    "# Hackerrank"
   ]
  },
  {
   "cell_type": "markdown",
   "metadata": {},
   "source": [
    "## Build a Stack Exchange Scraper\n"
   ]
  },
  {
   "cell_type": "code",
   "execution_count": null,
   "metadata": {},
   "outputs": [],
   "source": [
    "# Enter your code here. Read input from STDIN. Print output to STDOUT\n",
    "import re\n",
    "import sys\n",
    "\n",
    "# txt1 = input() \n",
    "txt1 = sys.stdin.read()\n",
    "matches1 = re.findall(\n",
    "    r'<a href=\"\\/questions\\/(\\d+)\\/.+?\\>+?([^<]+)(?:<\\/a><\\/h3>)',\n",
    "    txt1,\n",
    "    re.S\n",
    ")\n",
    "matches2 = re.findall(\n",
    "    r'asked.?<(?:[^>])+>([^<]+)<',\n",
    "    txt1,\n",
    "    re.S\n",
    ")\n",
    "for i, j in zip(matches1, matches2):\n",
    "    print(f\"{i[0]};{i[1]};{j}\")"
   ]
  },
  {
   "cell_type": "markdown",
   "metadata": {},
   "source": [
    "## Detect HTML Attributes"
   ]
  },
  {
   "cell_type": "code",
   "execution_count": null,
   "metadata": {},
   "outputs": [],
   "source": [
    "# Enter your code here. Read input from STDIN. Print output to STDOUT\n",
    "import re\n",
    "\n",
    "txt1 = \"\"\n",
    "N = int(input())\n",
    "for i in range(N):\n",
    "    txt_substring = input()\n",
    "    txt1 += f\" {txt_substring}\"\n",
    "\n",
    "tag_att_dict = {}\n",
    "\n",
    "matches = re.findall(\n",
    "    r'(?<=<)[^>]+(?=>)',\n",
    "    txt1\n",
    ")\n",
    "for i in matches:\n",
    "    # print(i)\n",
    "    # Split\n",
    "    split_list = i.split(' ')\n",
    "    # Tag\n",
    "    tag = split_list[0]\n",
    "    if tag not in tag_att_dict and not tag.startswith('/'):\n",
    "        tag_att_dict[tag] = []\n",
    "    # print(tag)\n",
    "    # Attributes\n",
    "    matches2 = re.findall(\n",
    "        r'[a-z]+(?=(?:\\=\\\"|\\=\\'))',\n",
    "        i\n",
    "    )\n",
    "    for j in matches2:\n",
    "        if j not in tag_att_dict[tag]:\n",
    "            tag_att_dict[tag].append(j)\n",
    "\n",
    "tags = sorted(list(tag_att_dict.keys()))\n",
    "\n",
    "for i in tags:\n",
    "    sorted_atts = ','.join(sorted(tag_att_dict[i]))\n",
    "    print(f\"{i}:{sorted_atts}\")\n",
    "\n",
    "\n"
   ]
  }
 ],
 "metadata": {
  "kernelspec": {
   "display_name": "Python 3",
   "language": "python",
   "name": "python3"
  },
  "language_info": {
   "codemirror_mode": {
    "name": "ipython",
    "version": 3
   },
   "file_extension": ".py",
   "mimetype": "text/x-python",
   "name": "python",
   "nbconvert_exporter": "python",
   "pygments_lexer": "ipython3",
   "version": "3.12.10"
  }
 },
 "nbformat": 4,
 "nbformat_minor": 2
}
